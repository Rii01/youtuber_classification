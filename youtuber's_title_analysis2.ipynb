{
  "cells": [
    {
      "cell_type": "code",
      "execution_count": 12,
      "id": "cbea12c7",
      "metadata": {
        "id": "cbea12c7"
      },
      "outputs": [],
      "source": [
        "import sys\n",
        "import os\n",
        "import re\n",
        "import neologdn\n",
        "import importlib\n",
        "import glob\n",
        "import json\n",
        "import pandas as pd # pandasモジュールを読み込む（データ分析ライブラリ）\n",
        "import numpy as np # NumPyモジュールを読み込む（数値演算ライブラリ）"
      ]
    },
    {
      "cell_type": "code",
      "execution_count": 3,
      "id": "5dcdddd4",
      "metadata": {
        "colab": {
          "base_uri": "https://localhost:8080/"
        },
        "id": "5dcdddd4",
        "outputId": "c0e92000-eb35-4ad2-c401-96b454c7c914"
      },
      "outputs": [
        {
          "name": "stdout",
          "output_type": "stream",
          "text": [
            "filepath: dataset_youtuber - titles.csv\n"
          ]
        }
      ],
      "source": [
        "INPUT_DATA = os.path.join(\"dataset_youtuber - titles.csv\")\n",
        "print(f\"filepath: {INPUT_DATA}\")"
      ]
    },
    {
      "cell_type": "markdown",
      "id": "c272ffa3",
      "metadata": {
        "id": "c272ffa3"
      },
      "source": [
        "## データフレーム読み込み"
      ]
    },
    {
      "cell_type": "code",
      "execution_count": 4,
      "id": "3e5541a0",
      "metadata": {
        "colab": {
          "base_uri": "https://localhost:8080/",
          "height": 206
        },
        "id": "3e5541a0",
        "outputId": "bf98ecc3-0a7f-4743-a274-2ab0c180d94a"
      },
      "outputs": [
        {
          "data": {
            "text/html": [
              "<div>\n",
              "<style scoped>\n",
              "    .dataframe tbody tr th:only-of-type {\n",
              "        vertical-align: middle;\n",
              "    }\n",
              "\n",
              "    .dataframe tbody tr th {\n",
              "        vertical-align: top;\n",
              "    }\n",
              "\n",
              "    .dataframe thead th {\n",
              "        text-align: right;\n",
              "    }\n",
              "</style>\n",
              "<table border=\"1\" class=\"dataframe\">\n",
              "  <thead>\n",
              "    <tr style=\"text-align: right;\">\n",
              "      <th></th>\n",
              "      <th>index</th>\n",
              "      <th>title</th>\n",
              "      <th>label</th>\n",
              "    </tr>\n",
              "  </thead>\n",
              "  <tbody>\n",
              "    <tr>\n",
              "      <th>0</th>\n",
              "      <td>1</td>\n",
              "      <td>【爆笑】有名人のモノマネ5人連続当てるまで帰れませんwwwww</td>\n",
              "      <td>1</td>\n",
              "    </tr>\n",
              "    <tr>\n",
              "      <th>1</th>\n",
              "      <td>2</td>\n",
              "      <td>3日間で1番ニキビ増やした人が勝ちのニキビ選手権がヤバすぎたwwww</td>\n",
              "      <td>1</td>\n",
              "    </tr>\n",
              "    <tr>\n",
              "      <th>2</th>\n",
              "      <td>3</td>\n",
              "      <td>[対決】1週間ピッチングを練習した男vs1週間バッティングを練習した男 どっちが勝つの？www</td>\n",
              "      <td>1</td>\n",
              "    </tr>\n",
              "    <tr>\n",
              "      <th>3</th>\n",
              "      <td>4</td>\n",
              "      <td>これが分かったあなたはラスボスの器です【ラスボス診断】</td>\n",
              "      <td>1</td>\n",
              "    </tr>\n",
              "    <tr>\n",
              "      <th>4</th>\n",
              "      <td>5</td>\n",
              "      <td>【喧嘩】３回連続で回答を一致させるな！が難しすぎて大揉めwwww</td>\n",
              "      <td>1</td>\n",
              "    </tr>\n",
              "  </tbody>\n",
              "</table>\n",
              "</div>"
            ],
            "text/plain": [
              "   index                                            title  label\n",
              "0      1                  【爆笑】有名人のモノマネ5人連続当てるまで帰れませんwwwww      1\n",
              "1      2               3日間で1番ニキビ増やした人が勝ちのニキビ選手権がヤバすぎたwwww      1\n",
              "2      3  [対決】1週間ピッチングを練習した男vs1週間バッティングを練習した男 どっちが勝つの？www      1\n",
              "3      4                      これが分かったあなたはラスボスの器です【ラスボス診断】      1\n",
              "4      5                 【喧嘩】３回連続で回答を一致させるな！が難しすぎて大揉めwwww      1"
            ]
          },
          "execution_count": 4,
          "metadata": {},
          "output_type": "execute_result"
        }
      ],
      "source": [
        "df_titles = pd.read_csv(INPUT_DATA)\n",
        "df_titles.head()"
      ]
    },
    {
      "cell_type": "code",
      "execution_count": 5,
      "id": "3a0e1231",
      "metadata": {
        "colab": {
          "base_uri": "https://localhost:8080/"
        },
        "id": "3a0e1231",
        "outputId": "cb68b387-cc98-4b6a-83fb-e02ccea7c7ba"
      },
      "outputs": [
        {
          "name": "stdout",
          "output_type": "stream",
          "text": [
            "<class 'pandas.core.frame.DataFrame'>\n",
            "RangeIndex: 200 entries, 0 to 199\n",
            "Data columns (total 3 columns):\n",
            " #   Column  Non-Null Count  Dtype \n",
            "---  ------  --------------  ----- \n",
            " 0   index   200 non-null    int64 \n",
            " 1   title   200 non-null    object\n",
            " 2   label   200 non-null    int64 \n",
            "dtypes: int64(2), object(1)\n",
            "memory usage: 4.8+ KB\n"
          ]
        }
      ],
      "source": [
        "df_titles.info()"
      ]
    },
    {
      "cell_type": "markdown",
      "id": "958d56c5",
      "metadata": {
        "id": "958d56c5"
      },
      "source": [
        "## 前処理"
      ]
    },
    {
      "cell_type": "code",
      "execution_count": 6,
      "id": "24aba07a",
      "metadata": {
        "id": "24aba07a"
      },
      "outputs": [],
      "source": [
        "df_titles2 = df_titles.copy()\n",
        "df_titles2_tmp = df_titles2.copy()"
      ]
    },
    {
      "cell_type": "code",
      "execution_count": 7,
      "id": "6e415a93",
      "metadata": {
        "colab": {
          "base_uri": "https://localhost:8080/",
          "height": 242
        },
        "id": "6e415a93",
        "outputId": "45d59931-c9d0-4036-8b53-ded16d27d8eb"
      },
      "outputs": [
        {
          "name": "stdout",
          "output_type": "stream",
          "text": [
            "CPU times: user 673 μs, sys: 228 μs, total: 901 μs\n",
            "Wall time: 1.7 ms\n"
          ]
        },
        {
          "data": {
            "text/html": [
              "<div>\n",
              "<style scoped>\n",
              "    .dataframe tbody tr th:only-of-type {\n",
              "        vertical-align: middle;\n",
              "    }\n",
              "\n",
              "    .dataframe tbody tr th {\n",
              "        vertical-align: top;\n",
              "    }\n",
              "\n",
              "    .dataframe thead th {\n",
              "        text-align: right;\n",
              "    }\n",
              "</style>\n",
              "<table border=\"1\" class=\"dataframe\">\n",
              "  <thead>\n",
              "    <tr style=\"text-align: right;\">\n",
              "      <th></th>\n",
              "      <th>index</th>\n",
              "      <th>title</th>\n",
              "      <th>label</th>\n",
              "    </tr>\n",
              "  </thead>\n",
              "  <tbody>\n",
              "    <tr>\n",
              "      <th>0</th>\n",
              "      <td>1</td>\n",
              "      <td>【爆笑】有名人のモノマネ5人連続当てるまで帰れませんwwwww</td>\n",
              "      <td>1</td>\n",
              "    </tr>\n",
              "    <tr>\n",
              "      <th>1</th>\n",
              "      <td>2</td>\n",
              "      <td>3日間で1番ニキビ増やした人が勝ちのニキビ選手権がヤバすぎたwwww</td>\n",
              "      <td>1</td>\n",
              "    </tr>\n",
              "    <tr>\n",
              "      <th>2</th>\n",
              "      <td>3</td>\n",
              "      <td>[対決】1週間ピッチングを練習した男vs1週間バッティングを練習した男 どっちが勝つの？www</td>\n",
              "      <td>1</td>\n",
              "    </tr>\n",
              "    <tr>\n",
              "      <th>3</th>\n",
              "      <td>4</td>\n",
              "      <td>これが分かったあなたはラスボスの器です【ラスボス診断】</td>\n",
              "      <td>1</td>\n",
              "    </tr>\n",
              "    <tr>\n",
              "      <th>4</th>\n",
              "      <td>5</td>\n",
              "      <td>【喧嘩】３回連続で回答を一致させるな！が難しすぎて大揉めwwww</td>\n",
              "      <td>1</td>\n",
              "    </tr>\n",
              "  </tbody>\n",
              "</table>\n",
              "</div>"
            ],
            "text/plain": [
              "   index                                            title  label\n",
              "0      1                  【爆笑】有名人のモノマネ5人連続当てるまで帰れませんwwwww      1\n",
              "1      2               3日間で1番ニキビ増やした人が勝ちのニキビ選手権がヤバすぎたwwww      1\n",
              "2      3  [対決】1週間ピッチングを練習した男vs1週間バッティングを練習した男 どっちが勝つの？www      1\n",
              "3      4                      これが分かったあなたはラスボスの器です【ラスボス診断】      1\n",
              "4      5                 【喧嘩】３回連続で回答を一致させるな！が難しすぎて大揉めwwww      1"
            ]
          },
          "execution_count": 7,
          "metadata": {},
          "output_type": "execute_result"
        }
      ],
      "source": [
        "# Lower Case\n",
        "df_titles2_tmp['title_old'] = df_titles2['title']\n",
        "%time df_titles2_tmp['title_new'] = df_titles2['title'].map(lambda x: x.lower())\n",
        "df_titles2['title'] = df_titles2_tmp['title_new']\n",
        "df_titles2.head()"
      ]
    },
    {
      "cell_type": "code",
      "execution_count": 8,
      "id": "eafc47d0",
      "metadata": {
        "colab": {
          "base_uri": "https://localhost:8080/",
          "height": 1000
        },
        "id": "eafc47d0",
        "outputId": "32545bb5-4f80-45fb-a6f6-14f1b552fc0c"
      },
      "outputs": [
        {
          "data": {
            "text/html": [
              "<div>\n",
              "<style scoped>\n",
              "    .dataframe tbody tr th:only-of-type {\n",
              "        vertical-align: middle;\n",
              "    }\n",
              "\n",
              "    .dataframe tbody tr th {\n",
              "        vertical-align: top;\n",
              "    }\n",
              "\n",
              "    .dataframe thead th {\n",
              "        text-align: right;\n",
              "    }\n",
              "</style>\n",
              "<table border=\"1\" class=\"dataframe\">\n",
              "  <thead>\n",
              "    <tr style=\"text-align: right;\">\n",
              "      <th></th>\n",
              "      <th>title_old</th>\n",
              "      <th>title_new</th>\n",
              "    </tr>\n",
              "  </thead>\n",
              "  <tbody>\n",
              "    <tr>\n",
              "      <th>7</th>\n",
              "      <td>【謎解き】怪しい村からAIを駆使して脱出せよ！！脱出村！！</td>\n",
              "      <td>【謎解き】怪しい村からaiを駆使して脱出せよ！！脱出村！！</td>\n",
              "    </tr>\n",
              "    <tr>\n",
              "      <th>33</th>\n",
              "      <td>【心霊】超ビビりがSS級の大阪最恐心スポに潜入したら大パニック絶叫祭りwww</td>\n",
              "      <td>【心霊】超ビビりがss級の大阪最恐心スポに潜入したら大パニック絶叫祭りwww</td>\n",
              "    </tr>\n",
              "    <tr>\n",
              "      <th>42</th>\n",
              "      <td>京都 大阪 兵庫の中で1番優れているのはどこか、この際やし決めよや。【いだちゃんねる】【wa...</td>\n",
              "      <td>京都 大阪 兵庫の中で1番優れているのはどこか、この際やし決めよや。【いだちゃんねる】【wa...</td>\n",
              "    </tr>\n",
              "    <tr>\n",
              "      <th>45</th>\n",
              "      <td>【最難関】USJのお土産ランキングbest5当てれるまで帰れませんが過去1の地獄すぎました</td>\n",
              "      <td>【最難関】usjのお土産ランキングbest5当てれるまで帰れませんが過去1の地獄すぎました</td>\n",
              "    </tr>\n",
              "    <tr>\n",
              "      <th>49</th>\n",
              "      <td>【AI】アンチコメを画像にしてクイズしたら人間の予想を超える超難問だらけでしたwww</td>\n",
              "      <td>【ai】アンチコメを画像にしてクイズしたら人間の予想を超える超難問だらけでしたwww</td>\n",
              "    </tr>\n",
              "    <tr>\n",
              "      <th>62</th>\n",
              "      <td>君よ / どば師匠：OFFICIAL MUSIC VIDEO</td>\n",
              "      <td>君よ / どば師匠：official music video</td>\n",
              "    </tr>\n",
              "    <tr>\n",
              "      <th>71</th>\n",
              "      <td>【地獄】冬の曲BEST3当てるまで帰れませんが激ムズすぎて冬終わってまうて...</td>\n",
              "      <td>【地獄】冬の曲best3当てるまで帰れませんが激ムズすぎて冬終わってまうて...</td>\n",
              "    </tr>\n",
              "    <tr>\n",
              "      <th>79</th>\n",
              "      <td>【第３回】大好評の1時間NGなしドライブでまたもや大暴露祭り開催www</td>\n",
              "      <td>【第３回】大好評の1時間ngなしドライブでまたもや大暴露祭り開催www</td>\n",
              "    </tr>\n",
              "    <tr>\n",
              "      <th>89</th>\n",
              "      <td>【爆笑】2025年YouTube界で起きそうな事を予想したら1人預言者発見したwww</td>\n",
              "      <td>【爆笑】2025年youtube界で起きそうな事を予想したら1人預言者発見したwww</td>\n",
              "    </tr>\n",
              "    <tr>\n",
              "      <th>118</th>\n",
              "      <td>アイデアなら負けるわけなし！vsAI３番勝負！</td>\n",
              "      <td>アイデアなら負けるわけなし！vsai３番勝負！</td>\n",
              "    </tr>\n",
              "    <tr>\n",
              "      <th>125</th>\n",
              "      <td>【自称OK】「日本一の●●」をどちらが多く見つけてこれるか対決！で東西に分かれて大調査だ！！...</td>\n",
              "      <td>【自称ok】「日本一の●●」をどちらが多く見つけてこれるか対決！で東西に分かれて大調査だ！！...</td>\n",
              "    </tr>\n",
              "    <tr>\n",
              "      <th>128</th>\n",
              "      <td>【SiZE UP】やや地味なボドゲでも東海オンエアなら大丈夫！と思っていたのだが…</td>\n",
              "      <td>【size up】やや地味なボドゲでも東海オンエアなら大丈夫！と思っていたのだが…</td>\n",
              "    </tr>\n",
              "    <tr>\n",
              "      <th>129</th>\n",
              "      <td>Amazonで購入した商品を評価順に並び変えろ！！！【全４ジャンル】</td>\n",
              "      <td>amazonで購入した商品を評価順に並び変えろ！！！【全４ジャンル】</td>\n",
              "    </tr>\n",
              "    <tr>\n",
              "      <th>132</th>\n",
              "      <td>【負けたらiPhone4生活】iだけ小文字って流行りすぎて逆に個性無し！？たくさん見つけバト...</td>\n",
              "      <td>【負けたらiphone4生活】iだけ小文字って流行りすぎて逆に個性無し！？たくさん見つけバト...</td>\n",
              "    </tr>\n",
              "    <tr>\n",
              "      <th>136</th>\n",
              "      <td>【６人対戦】バレずに相手を殴り倒すゲームで大盛り上がり！！！【Unspottable】</td>\n",
              "      <td>【６人対戦】バレずに相手を殴り倒すゲームで大盛り上がり！！！【unspottable】</td>\n",
              "    </tr>\n",
              "    <tr>\n",
              "      <th>138</th>\n",
              "      <td>【VIP席革命】野球の試合中のグラウンド内で打球に当たらずに「鍋」を食い切ることはできるのか！？</td>\n",
              "      <td>【vip席革命】野球の試合中のグラウンド内で打球に当たらずに「鍋」を食い切ることはできるのか！？</td>\n",
              "    </tr>\n",
              "    <tr>\n",
              "      <th>150</th>\n",
              "      <td>東大生でも読めないバカVS東大卒の勉強の天才でクイズ対決したら史上最強の名勝負誕生www</td>\n",
              "      <td>東大生でも読めないバカvs東大卒の勉強の天才でクイズ対決したら史上最強の名勝負誕生www</td>\n",
              "    </tr>\n",
              "    <tr>\n",
              "      <th>152</th>\n",
              "      <td>【MV】絶好調!!!!!!/Fischer’s</td>\n",
              "      <td>【mv】絶好調!!!!!!/fischer’s</td>\n",
              "    </tr>\n",
              "    <tr>\n",
              "      <th>171</th>\n",
              "      <td>【１００分間】結婚・出産幸せYouTuberたちvsフィッシャーズで本気の鬼ごっこで逃げ切っ...</td>\n",
              "      <td>【１００分間】結婚・出産幸せyoutuberたちvsフィッシャーズで本気の鬼ごっこで逃げ切っ...</td>\n",
              "    </tr>\n",
              "    <tr>\n",
              "      <th>173</th>\n",
              "      <td>【MV】フルスイング/んだほ from Fischer's</td>\n",
              "      <td>【mv】フルスイング/んだほ from fischer's</td>\n",
              "    </tr>\n",
              "    <tr>\n",
              "      <th>174</th>\n",
              "      <td>【最終回】２年間初心者が本気で練習してプロ球場でホームランチャレンジしたら遂に涙の達成！！【...</td>\n",
              "      <td>【最終回】２年間初心者が本気で練習してプロ球場でホームランチャレンジしたら遂に涙の達成！！【...</td>\n",
              "    </tr>\n",
              "    <tr>\n",
              "      <th>185</th>\n",
              "      <td>【平成】伝説のMVを完全再現したら制作費かかりすぎて大破産したwww</td>\n",
              "      <td>【平成】伝説のmvを完全再現したら制作費かかりすぎて大破産したwww</td>\n",
              "    </tr>\n",
              "    <tr>\n",
              "      <th>186</th>\n",
              "      <td>Onaraはずかしくないよ/オンナラブリー 2025ver.完全再現MV【ピラメキーノ】【平...</td>\n",
              "      <td>onaraはずかしくないよ/オンナラブリー 2025ver.完全再現mv【ピラメキーノ】【平...</td>\n",
              "    </tr>\n",
              "    <tr>\n",
              "      <th>196</th>\n",
              "      <td>【2024年総集編】平成フラミンゴりほのおすすめ動画BEST5</td>\n",
              "      <td>【2024年総集編】平成フラミンゴりほのおすすめ動画best5</td>\n",
              "    </tr>\n",
              "    <tr>\n",
              "      <th>197</th>\n",
              "      <td>【2024年総集編】平成フラミンゴにこのおすすめ動画BEST5</td>\n",
              "      <td>【2024年総集編】平成フラミンゴにこのおすすめ動画best5</td>\n",
              "    </tr>\n",
              "    <tr>\n",
              "      <th>199</th>\n",
              "      <td>インタビューとかしたかったけど全然無理だった女たちの虚しい1日【YTFF】</td>\n",
              "      <td>インタビューとかしたかったけど全然無理だった女たちの虚しい1日【ytff】</td>\n",
              "    </tr>\n",
              "  </tbody>\n",
              "</table>\n",
              "</div>"
            ],
            "text/plain": [
              "                                             title_old  \\\n",
              "7                        【謎解き】怪しい村からAIを駆使して脱出せよ！！脱出村！！   \n",
              "33              【心霊】超ビビりがSS級の大阪最恐心スポに潜入したら大パニック絶叫祭りwww   \n",
              "42   京都 大阪 兵庫の中で1番優れているのはどこか、この際やし決めよや。【いだちゃんねる】【wa...   \n",
              "45       【最難関】USJのお土産ランキングbest5当てれるまで帰れませんが過去1の地獄すぎました   \n",
              "49          【AI】アンチコメを画像にしてクイズしたら人間の予想を超える超難問だらけでしたwww   \n",
              "62                      君よ / どば師匠：OFFICIAL MUSIC VIDEO   \n",
              "71            【地獄】冬の曲BEST3当てるまで帰れませんが激ムズすぎて冬終わってまうて...   \n",
              "79                 【第３回】大好評の1時間NGなしドライブでまたもや大暴露祭り開催www   \n",
              "89          【爆笑】2025年YouTube界で起きそうな事を予想したら1人預言者発見したwww   \n",
              "118                            アイデアなら負けるわけなし！vsAI３番勝負！   \n",
              "125  【自称OK】「日本一の●●」をどちらが多く見つけてこれるか対決！で東西に分かれて大調査だ！！...   \n",
              "128          【SiZE UP】やや地味なボドゲでも東海オンエアなら大丈夫！と思っていたのだが…   \n",
              "129                 Amazonで購入した商品を評価順に並び変えろ！！！【全４ジャンル】   \n",
              "132  【負けたらiPhone4生活】iだけ小文字って流行りすぎて逆に個性無し！？たくさん見つけバト...   \n",
              "136        【６人対戦】バレずに相手を殴り倒すゲームで大盛り上がり！！！【Unspottable】   \n",
              "138   【VIP席革命】野球の試合中のグラウンド内で打球に当たらずに「鍋」を食い切ることはできるのか！？   \n",
              "150       東大生でも読めないバカVS東大卒の勉強の天才でクイズ対決したら史上最強の名勝負誕生www   \n",
              "152                            【MV】絶好調!!!!!!/Fischer’s   \n",
              "171  【１００分間】結婚・出産幸せYouTuberたちvsフィッシャーズで本気の鬼ごっこで逃げ切っ...   \n",
              "173                     【MV】フルスイング/んだほ from Fischer's   \n",
              "174  【最終回】２年間初心者が本気で練習してプロ球場でホームランチャレンジしたら遂に涙の達成！！【...   \n",
              "185                 【平成】伝説のMVを完全再現したら制作費かかりすぎて大破産したwww   \n",
              "186  Onaraはずかしくないよ/オンナラブリー 2025ver.完全再現MV【ピラメキーノ】【平...   \n",
              "196                    【2024年総集編】平成フラミンゴりほのおすすめ動画BEST5   \n",
              "197                    【2024年総集編】平成フラミンゴにこのおすすめ動画BEST5   \n",
              "199              インタビューとかしたかったけど全然無理だった女たちの虚しい1日【YTFF】   \n",
              "\n",
              "                                             title_new  \n",
              "7                        【謎解き】怪しい村からaiを駆使して脱出せよ！！脱出村！！  \n",
              "33              【心霊】超ビビりがss級の大阪最恐心スポに潜入したら大パニック絶叫祭りwww  \n",
              "42   京都 大阪 兵庫の中で1番優れているのはどこか、この際やし決めよや。【いだちゃんねる】【wa...  \n",
              "45       【最難関】usjのお土産ランキングbest5当てれるまで帰れませんが過去1の地獄すぎました  \n",
              "49          【ai】アンチコメを画像にしてクイズしたら人間の予想を超える超難問だらけでしたwww  \n",
              "62                      君よ / どば師匠：official music video  \n",
              "71            【地獄】冬の曲best3当てるまで帰れませんが激ムズすぎて冬終わってまうて...  \n",
              "79                 【第３回】大好評の1時間ngなしドライブでまたもや大暴露祭り開催www  \n",
              "89          【爆笑】2025年youtube界で起きそうな事を予想したら1人預言者発見したwww  \n",
              "118                            アイデアなら負けるわけなし！vsai３番勝負！  \n",
              "125  【自称ok】「日本一の●●」をどちらが多く見つけてこれるか対決！で東西に分かれて大調査だ！！...  \n",
              "128          【size up】やや地味なボドゲでも東海オンエアなら大丈夫！と思っていたのだが…  \n",
              "129                 amazonで購入した商品を評価順に並び変えろ！！！【全４ジャンル】  \n",
              "132  【負けたらiphone4生活】iだけ小文字って流行りすぎて逆に個性無し！？たくさん見つけバト...  \n",
              "136        【６人対戦】バレずに相手を殴り倒すゲームで大盛り上がり！！！【unspottable】  \n",
              "138   【vip席革命】野球の試合中のグラウンド内で打球に当たらずに「鍋」を食い切ることはできるのか！？  \n",
              "150       東大生でも読めないバカvs東大卒の勉強の天才でクイズ対決したら史上最強の名勝負誕生www  \n",
              "152                            【mv】絶好調!!!!!!/fischer’s  \n",
              "171  【１００分間】結婚・出産幸せyoutuberたちvsフィッシャーズで本気の鬼ごっこで逃げ切っ...  \n",
              "173                     【mv】フルスイング/んだほ from fischer's  \n",
              "174  【最終回】２年間初心者が本気で練習してプロ球場でホームランチャレンジしたら遂に涙の達成！！【...  \n",
              "185                 【平成】伝説のmvを完全再現したら制作費かかりすぎて大破産したwww  \n",
              "186  onaraはずかしくないよ/オンナラブリー 2025ver.完全再現mv【ピラメキーノ】【平...  \n",
              "196                    【2024年総集編】平成フラミンゴりほのおすすめ動画best5  \n",
              "197                    【2024年総集編】平成フラミンゴにこのおすすめ動画best5  \n",
              "199              インタビューとかしたかったけど全然無理だった女たちの虚しい1日【ytff】  "
            ]
          },
          "execution_count": 8,
          "metadata": {},
          "output_type": "execute_result"
        }
      ],
      "source": [
        "df_titles2_tmp[df_titles2_tmp['title_new'] != df_titles2_tmp['title_old']][['title_old','title_new']]"
      ]
    },
    {
      "cell_type": "code",
      "execution_count": 9,
      "id": "2a5baf1f",
      "metadata": {
        "colab": {
          "base_uri": "https://localhost:8080/",
          "height": 242
        },
        "id": "2a5baf1f",
        "outputId": "5c7ea749-28c5-4b78-b423-00cde2bb98ba"
      },
      "outputs": [
        {
          "name": "stdout",
          "output_type": "stream",
          "text": [
            "CPU times: user 6.34 ms, sys: 1.25 ms, total: 7.6 ms\n",
            "Wall time: 7.17 ms\n"
          ]
        },
        {
          "data": {
            "text/html": [
              "<div>\n",
              "<style scoped>\n",
              "    .dataframe tbody tr th:only-of-type {\n",
              "        vertical-align: middle;\n",
              "    }\n",
              "\n",
              "    .dataframe tbody tr th {\n",
              "        vertical-align: top;\n",
              "    }\n",
              "\n",
              "    .dataframe thead th {\n",
              "        text-align: right;\n",
              "    }\n",
              "</style>\n",
              "<table border=\"1\" class=\"dataframe\">\n",
              "  <thead>\n",
              "    <tr style=\"text-align: right;\">\n",
              "      <th></th>\n",
              "      <th>index</th>\n",
              "      <th>title</th>\n",
              "      <th>label</th>\n",
              "    </tr>\n",
              "  </thead>\n",
              "  <tbody>\n",
              "    <tr>\n",
              "      <th>0</th>\n",
              "      <td>1</td>\n",
              "      <td>【爆笑】有名人のモノマネ5人連続当てるまで帰れませんwwwww</td>\n",
              "      <td>1</td>\n",
              "    </tr>\n",
              "    <tr>\n",
              "      <th>1</th>\n",
              "      <td>2</td>\n",
              "      <td>3日間で1番ニキビ増やした人が勝ちのニキビ選手権がヤバすぎたwwww</td>\n",
              "      <td>1</td>\n",
              "    </tr>\n",
              "    <tr>\n",
              "      <th>2</th>\n",
              "      <td>3</td>\n",
              "      <td>[対決】1週間ピッチングを練習した男vs1週間バッティングを練習した男どっちが勝つの?www</td>\n",
              "      <td>1</td>\n",
              "    </tr>\n",
              "    <tr>\n",
              "      <th>3</th>\n",
              "      <td>4</td>\n",
              "      <td>これが分かったあなたはラスボスの器です【ラスボス診断】</td>\n",
              "      <td>1</td>\n",
              "    </tr>\n",
              "    <tr>\n",
              "      <th>4</th>\n",
              "      <td>5</td>\n",
              "      <td>【喧嘩】3回連続で回答を一致させるな!が難しすぎて大揉めwwww</td>\n",
              "      <td>1</td>\n",
              "    </tr>\n",
              "  </tbody>\n",
              "</table>\n",
              "</div>"
            ],
            "text/plain": [
              "   index                                           title  label\n",
              "0      1                 【爆笑】有名人のモノマネ5人連続当てるまで帰れませんwwwww      1\n",
              "1      2              3日間で1番ニキビ増やした人が勝ちのニキビ選手権がヤバすぎたwwww      1\n",
              "2      3  [対決】1週間ピッチングを練習した男vs1週間バッティングを練習した男どっちが勝つの?www      1\n",
              "3      4                     これが分かったあなたはラスボスの器です【ラスボス診断】      1\n",
              "4      5                【喧嘩】3回連続で回答を一致させるな!が難しすぎて大揉めwwww      1"
            ]
          },
          "execution_count": 9,
          "metadata": {},
          "output_type": "execute_result"
        }
      ],
      "source": [
        "df_titles2_tmp['title_old'] = df_titles2['title']\n",
        "%time df_titles2_tmp['title_new'] = df_titles2['title'].map(lambda x: neologdn.normalize(x))\n",
        "df_titles2['title'] = df_titles2_tmp['title_new']\n",
        "df_titles2.head()"
      ]
    },
    {
      "cell_type": "code",
      "execution_count": 10,
      "id": "0391afd6",
      "metadata": {
        "colab": {
          "base_uri": "https://localhost:8080/",
          "height": 510
        },
        "id": "0391afd6",
        "outputId": "6916031a-661b-4ecf-f98b-1d0c18d0cf42"
      },
      "outputs": [
        {
          "data": {
            "text/html": [
              "<div>\n",
              "<style scoped>\n",
              "    .dataframe tbody tr th:only-of-type {\n",
              "        vertical-align: middle;\n",
              "    }\n",
              "\n",
              "    .dataframe tbody tr th {\n",
              "        vertical-align: top;\n",
              "    }\n",
              "\n",
              "    .dataframe thead th {\n",
              "        text-align: right;\n",
              "    }\n",
              "</style>\n",
              "<table border=\"1\" class=\"dataframe\">\n",
              "  <thead>\n",
              "    <tr style=\"text-align: right;\">\n",
              "      <th></th>\n",
              "      <th>title_old</th>\n",
              "      <th>title_new</th>\n",
              "    </tr>\n",
              "  </thead>\n",
              "  <tbody>\n",
              "    <tr>\n",
              "      <th>2</th>\n",
              "      <td>[対決】1週間ピッチングを練習した男vs1週間バッティングを練習した男 どっちが勝つの？www</td>\n",
              "      <td>[対決】1週間ピッチングを練習した男vs1週間バッティングを練習した男どっちが勝つの?www</td>\n",
              "    </tr>\n",
              "    <tr>\n",
              "      <th>4</th>\n",
              "      <td>【喧嘩】３回連続で回答を一致させるな！が難しすぎて大揉めwwww</td>\n",
              "      <td>【喧嘩】3回連続で回答を一致させるな!が難しすぎて大揉めwwww</td>\n",
              "    </tr>\n",
              "    <tr>\n",
              "      <th>5</th>\n",
              "      <td>【対決】街頭インタビューの答えをピッタリ21にしろ！！【街中ブラックジャック】</td>\n",
              "      <td>【対決】街頭インタビューの答えをピッタリ21にしろ!!【街中ブラックジャック】</td>\n",
              "    </tr>\n",
              "    <tr>\n",
              "      <th>7</th>\n",
              "      <td>【謎解き】怪しい村からaiを駆使して脱出せよ！！脱出村！！</td>\n",
              "      <td>【謎解き】怪しい村からaiを駆使して脱出せよ!!脱出村!!</td>\n",
              "    </tr>\n",
              "    <tr>\n",
              "      <th>11</th>\n",
              "      <td>ただの旅行動画の中に隠れる、禁欲している人を見つけ出せ！！【第2回禁欲人狼】【大人気企画復活】</td>\n",
              "      <td>ただの旅行動画の中に隠れる、禁欲している人を見つけ出せ!!【第2回禁欲人狼】【大人気企画復活】</td>\n",
              "    </tr>\n",
              "    <tr>\n",
              "      <th>...</th>\n",
              "      <td>...</td>\n",
              "      <td>...</td>\n",
              "    </tr>\n",
              "    <tr>\n",
              "      <th>178</th>\n",
              "      <td>いきなりハワイ旅行で100万円使い切るまで帰れません 【ミリオンツアー】</td>\n",
              "      <td>いきなりハワイ旅行で100万円使い切るまで帰れません【ミリオンツアー】</td>\n",
              "    </tr>\n",
              "    <tr>\n",
              "      <th>179</th>\n",
              "      <td>レゴ®︎ブロックの家が木の上にあったので1日生活してみた！</td>\n",
              "      <td>レゴ®︎ブロックの家が木の上にあったので1日生活してみた!</td>\n",
              "    </tr>\n",
              "    <tr>\n",
              "      <th>180</th>\n",
              "      <td>【都市伝説】世界のあらゆる謎について討論していたら撮影中断する事件が発生！？</td>\n",
              "      <td>【都市伝説】世界のあらゆる謎について討論していたら撮影中断する事件が発生!?</td>\n",
              "    </tr>\n",
              "    <tr>\n",
              "      <th>186</th>\n",
              "      <td>onaraはずかしくないよ/オンナラブリー 2025ver.完全再現mv【ピラメキーノ】【平...</td>\n",
              "      <td>onaraはずかしくないよ/オンナラブリー2025ver.完全再現mv【ピラメキーノ】【平成...</td>\n",
              "    </tr>\n",
              "    <tr>\n",
              "      <th>188</th>\n",
              "      <td>【爆買い】無印良品の購入品紹介で喧嘩になるの何で？</td>\n",
              "      <td>【爆買い】無印良品の購入品紹介で喧嘩になるの何で?</td>\n",
              "    </tr>\n",
              "  </tbody>\n",
              "</table>\n",
              "<p>82 rows × 2 columns</p>\n",
              "</div>"
            ],
            "text/plain": [
              "                                             title_old  \\\n",
              "2      [対決】1週間ピッチングを練習した男vs1週間バッティングを練習した男 どっちが勝つの？www   \n",
              "4                     【喧嘩】３回連続で回答を一致させるな！が難しすぎて大揉めwwww   \n",
              "5              【対決】街頭インタビューの答えをピッタリ21にしろ！！【街中ブラックジャック】   \n",
              "7                        【謎解き】怪しい村からaiを駆使して脱出せよ！！脱出村！！   \n",
              "11     ただの旅行動画の中に隠れる、禁欲している人を見つけ出せ！！【第2回禁欲人狼】【大人気企画復活】   \n",
              "..                                                 ...   \n",
              "178               いきなりハワイ旅行で100万円使い切るまで帰れません 【ミリオンツアー】   \n",
              "179                      レゴ®︎ブロックの家が木の上にあったので1日生活してみた！   \n",
              "180             【都市伝説】世界のあらゆる謎について討論していたら撮影中断する事件が発生！？   \n",
              "186  onaraはずかしくないよ/オンナラブリー 2025ver.完全再現mv【ピラメキーノ】【平...   \n",
              "188                          【爆買い】無印良品の購入品紹介で喧嘩になるの何で？   \n",
              "\n",
              "                                             title_new  \n",
              "2       [対決】1週間ピッチングを練習した男vs1週間バッティングを練習した男どっちが勝つの?www  \n",
              "4                     【喧嘩】3回連続で回答を一致させるな!が難しすぎて大揉めwwww  \n",
              "5              【対決】街頭インタビューの答えをピッタリ21にしろ!!【街中ブラックジャック】  \n",
              "7                        【謎解き】怪しい村からaiを駆使して脱出せよ!!脱出村!!  \n",
              "11     ただの旅行動画の中に隠れる、禁欲している人を見つけ出せ!!【第2回禁欲人狼】【大人気企画復活】  \n",
              "..                                                 ...  \n",
              "178                いきなりハワイ旅行で100万円使い切るまで帰れません【ミリオンツアー】  \n",
              "179                      レゴ®︎ブロックの家が木の上にあったので1日生活してみた!  \n",
              "180             【都市伝説】世界のあらゆる謎について討論していたら撮影中断する事件が発生!?  \n",
              "186  onaraはずかしくないよ/オンナラブリー2025ver.完全再現mv【ピラメキーノ】【平成...  \n",
              "188                          【爆買い】無印良品の購入品紹介で喧嘩になるの何で?  \n",
              "\n",
              "[82 rows x 2 columns]"
            ]
          },
          "execution_count": 10,
          "metadata": {},
          "output_type": "execute_result"
        }
      ],
      "source": [
        "df_titles2_tmp[df_titles2_tmp['title_new'] != df_titles2_tmp['title_old']][['title_old','title_new']]"
      ]
    },
    {
      "cell_type": "code",
      "execution_count": 13,
      "id": "f2bb08ac",
      "metadata": {},
      "outputs": [
        {
          "name": "stdout",
          "output_type": "stream",
          "text": [
            "CPU times: user 1.64 ms, sys: 508 μs, total: 2.15 ms\n",
            "Wall time: 2.21 ms\n"
          ]
        },
        {
          "data": {
            "text/html": [
              "<div>\n",
              "<style scoped>\n",
              "    .dataframe tbody tr th:only-of-type {\n",
              "        vertical-align: middle;\n",
              "    }\n",
              "\n",
              "    .dataframe tbody tr th {\n",
              "        vertical-align: top;\n",
              "    }\n",
              "\n",
              "    .dataframe thead th {\n",
              "        text-align: right;\n",
              "    }\n",
              "</style>\n",
              "<table border=\"1\" class=\"dataframe\">\n",
              "  <thead>\n",
              "    <tr style=\"text-align: right;\">\n",
              "      <th></th>\n",
              "      <th>index</th>\n",
              "      <th>title</th>\n",
              "      <th>label</th>\n",
              "    </tr>\n",
              "  </thead>\n",
              "  <tbody>\n",
              "    <tr>\n",
              "      <th>0</th>\n",
              "      <td>1</td>\n",
              "      <td>爆笑有名人のモノマネ5人連続当てるまで帰れませんwwwww</td>\n",
              "      <td>1</td>\n",
              "    </tr>\n",
              "    <tr>\n",
              "      <th>1</th>\n",
              "      <td>2</td>\n",
              "      <td>3日間で1番ニキビ増やした人が勝ちのニキビ選手権がヤバすぎたwwww</td>\n",
              "      <td>1</td>\n",
              "    </tr>\n",
              "    <tr>\n",
              "      <th>2</th>\n",
              "      <td>3</td>\n",
              "      <td>対決1週間ピッチングを練習した男vs1週間バッティングを練習した男どっちが勝つのwww</td>\n",
              "      <td>1</td>\n",
              "    </tr>\n",
              "    <tr>\n",
              "      <th>3</th>\n",
              "      <td>4</td>\n",
              "      <td>これが分かったあなたはラスボスの器ですラスボス診断</td>\n",
              "      <td>1</td>\n",
              "    </tr>\n",
              "    <tr>\n",
              "      <th>4</th>\n",
              "      <td>5</td>\n",
              "      <td>喧嘩3回連続で回答を一致させるなが難しすぎて大揉めwwww</td>\n",
              "      <td>1</td>\n",
              "    </tr>\n",
              "  </tbody>\n",
              "</table>\n",
              "</div>"
            ],
            "text/plain": [
              "   index                                        title  label\n",
              "0      1                爆笑有名人のモノマネ5人連続当てるまで帰れませんwwwww      1\n",
              "1      2           3日間で1番ニキビ増やした人が勝ちのニキビ選手権がヤバすぎたwwww      1\n",
              "2      3  対決1週間ピッチングを練習した男vs1週間バッティングを練習した男どっちが勝つのwww      1\n",
              "3      4                    これが分かったあなたはラスボスの器ですラスボス診断      1\n",
              "4      5                喧嘩3回連続で回答を一致させるなが難しすぎて大揉めwwww      1"
            ]
          },
          "execution_count": 13,
          "metadata": {},
          "output_type": "execute_result"
        }
      ],
      "source": [
        "df_titles2_tmp['title_old'] = df_titles2['title']\n",
        "%time df_titles2_tmp['title_new'] = df_titles2['title'].map(lambda x: re.sub(r\"[^\\w\\sぁ-んァ-ン一-龥]\", \"\", x))\n",
        "df_titles2['title'] = df_titles2_tmp['title_new']\n",
        "df_titles2.head()"
      ]
    },
    {
      "cell_type": "code",
      "execution_count": 14,
      "id": "11d21474",
      "metadata": {},
      "outputs": [
        {
          "data": {
            "text/html": [
              "<div>\n",
              "<style scoped>\n",
              "    .dataframe tbody tr th:only-of-type {\n",
              "        vertical-align: middle;\n",
              "    }\n",
              "\n",
              "    .dataframe tbody tr th {\n",
              "        vertical-align: top;\n",
              "    }\n",
              "\n",
              "    .dataframe thead th {\n",
              "        text-align: right;\n",
              "    }\n",
              "</style>\n",
              "<table border=\"1\" class=\"dataframe\">\n",
              "  <thead>\n",
              "    <tr style=\"text-align: right;\">\n",
              "      <th></th>\n",
              "      <th>title_old</th>\n",
              "      <th>title_new</th>\n",
              "    </tr>\n",
              "  </thead>\n",
              "  <tbody>\n",
              "    <tr>\n",
              "      <th>0</th>\n",
              "      <td>【爆笑】有名人のモノマネ5人連続当てるまで帰れませんwwwww</td>\n",
              "      <td>爆笑有名人のモノマネ5人連続当てるまで帰れませんwwwww</td>\n",
              "    </tr>\n",
              "    <tr>\n",
              "      <th>2</th>\n",
              "      <td>[対決】1週間ピッチングを練習した男vs1週間バッティングを練習した男どっちが勝つの?www</td>\n",
              "      <td>対決1週間ピッチングを練習した男vs1週間バッティングを練習した男どっちが勝つのwww</td>\n",
              "    </tr>\n",
              "    <tr>\n",
              "      <th>3</th>\n",
              "      <td>これが分かったあなたはラスボスの器です【ラスボス診断】</td>\n",
              "      <td>これが分かったあなたはラスボスの器ですラスボス診断</td>\n",
              "    </tr>\n",
              "    <tr>\n",
              "      <th>4</th>\n",
              "      <td>【喧嘩】3回連続で回答を一致させるな!が難しすぎて大揉めwwww</td>\n",
              "      <td>喧嘩3回連続で回答を一致させるなが難しすぎて大揉めwwww</td>\n",
              "    </tr>\n",
              "    <tr>\n",
              "      <th>5</th>\n",
              "      <td>【対決】街頭インタビューの答えをピッタリ21にしろ!!【街中ブラックジャック】</td>\n",
              "      <td>対決街頭インタビューの答えをピッタリ21にしろ街中ブラックジャック</td>\n",
              "    </tr>\n",
              "    <tr>\n",
              "      <th>...</th>\n",
              "      <td>...</td>\n",
              "      <td>...</td>\n",
              "    </tr>\n",
              "    <tr>\n",
              "      <th>195</th>\n",
              "      <td>【ご報告】5年分の有休を取ることにしました</td>\n",
              "      <td>ご報告5年分の有休を取ることにしました</td>\n",
              "    </tr>\n",
              "    <tr>\n",
              "      <th>196</th>\n",
              "      <td>【2024年総集編】平成フラミンゴりほのおすすめ動画best5</td>\n",
              "      <td>2024年総集編平成フラミンゴりほのおすすめ動画best5</td>\n",
              "    </tr>\n",
              "    <tr>\n",
              "      <th>197</th>\n",
              "      <td>【2024年総集編】平成フラミンゴにこのおすすめ動画best5</td>\n",
              "      <td>2024年総集編平成フラミンゴにこのおすすめ動画best5</td>\n",
              "    </tr>\n",
              "    <tr>\n",
              "      <th>198</th>\n",
              "      <td>【クリスマス】手作りケーキを殿方に振る舞うはずが将来不安になって起業することにしたwww</td>\n",
              "      <td>クリスマス手作りケーキを殿方に振る舞うはずが将来不安になって起業することにしたwww</td>\n",
              "    </tr>\n",
              "    <tr>\n",
              "      <th>199</th>\n",
              "      <td>インタビューとかしたかったけど全然無理だった女たちの虚しい1日【ytff】</td>\n",
              "      <td>インタビューとかしたかったけど全然無理だった女たちの虚しい1日ytff</td>\n",
              "    </tr>\n",
              "  </tbody>\n",
              "</table>\n",
              "<p>179 rows × 2 columns</p>\n",
              "</div>"
            ],
            "text/plain": [
              "                                          title_old  \\\n",
              "0                   【爆笑】有名人のモノマネ5人連続当てるまで帰れませんwwwww   \n",
              "2    [対決】1週間ピッチングを練習した男vs1週間バッティングを練習した男どっちが勝つの?www   \n",
              "3                       これが分かったあなたはラスボスの器です【ラスボス診断】   \n",
              "4                  【喧嘩】3回連続で回答を一致させるな!が難しすぎて大揉めwwww   \n",
              "5           【対決】街頭インタビューの答えをピッタリ21にしろ!!【街中ブラックジャック】   \n",
              "..                                              ...   \n",
              "195                           【ご報告】5年分の有休を取ることにしました   \n",
              "196                 【2024年総集編】平成フラミンゴりほのおすすめ動画best5   \n",
              "197                 【2024年総集編】平成フラミンゴにこのおすすめ動画best5   \n",
              "198    【クリスマス】手作りケーキを殿方に振る舞うはずが将来不安になって起業することにしたwww   \n",
              "199           インタビューとかしたかったけど全然無理だった女たちの虚しい1日【ytff】   \n",
              "\n",
              "                                       title_new  \n",
              "0                  爆笑有名人のモノマネ5人連続当てるまで帰れませんwwwww  \n",
              "2    対決1週間ピッチングを練習した男vs1週間バッティングを練習した男どっちが勝つのwww  \n",
              "3                      これが分かったあなたはラスボスの器ですラスボス診断  \n",
              "4                  喧嘩3回連続で回答を一致させるなが難しすぎて大揉めwwww  \n",
              "5              対決街頭インタビューの答えをピッタリ21にしろ街中ブラックジャック  \n",
              "..                                           ...  \n",
              "195                          ご報告5年分の有休を取ることにしました  \n",
              "196                2024年総集編平成フラミンゴりほのおすすめ動画best5  \n",
              "197                2024年総集編平成フラミンゴにこのおすすめ動画best5  \n",
              "198   クリスマス手作りケーキを殿方に振る舞うはずが将来不安になって起業することにしたwww  \n",
              "199          インタビューとかしたかったけど全然無理だった女たちの虚しい1日ytff  \n",
              "\n",
              "[179 rows x 2 columns]"
            ]
          },
          "execution_count": 14,
          "metadata": {},
          "output_type": "execute_result"
        }
      ],
      "source": [
        "df_titles2_tmp[df_titles2_tmp['title_new'] != df_titles2_tmp['title_old']][['title_old','title_new']]"
      ]
    },
    {
      "cell_type": "markdown",
      "id": "5f03dac8",
      "metadata": {
        "id": "5f03dac8"
      },
      "source": [
        "## トークン化"
      ]
    },
    {
      "cell_type": "code",
      "execution_count": 15,
      "id": "b82137f4",
      "metadata": {
        "colab": {
          "base_uri": "https://localhost:8080/",
          "height": 241,
          "referenced_widgets": [
            "1ac2c234ccf949abb6b552f79c13f7db",
            "9fb33d82302649129df6b995fded7e27",
            "70681c517b8e466abb75821b5382b17f",
            "5a40ebb49d424565a4265739b9ec7f37",
            "4a4478c4a8d045d486fb2994537bb6b6",
            "2cf0c59787454211bf999a4823f684bd",
            "b0ef1e7ba09a4553b332ed9c2e418813",
            "043d1cfa05804c179102fb5ff241c706",
            "f19c935dd35e4425b9cb97f3db80c7a6",
            "266bf9f40950472b88167ad0fc2f1868",
            "a1ce4e45d1f24bcbae4c3cd80abcba26",
            "3b1f150bc97a4c148ee659637f20489f",
            "f8f23af4050d4bdc8ea138deb114a385",
            "5fdaa79a2920463ab47639f2c8994e5b",
            "72775062ba604947ada990b0babf657b",
            "0a141d276c3c4b1480e585bebc4284f6",
            "0dd8e663236448b5a03e391b2a43359b",
            "bd3ad4ba16e74e29bc15f458b8ed8af1",
            "83e2920621dd419f8917d4bfce54c789",
            "8986556fa85e4d8b8dd9c038fbef3b74",
            "96c220a3ecb044039f7f885656cc2b3b",
            "899e444ee67e47ecaa700c7f3ed31d17",
            "63ee7ab13ae444afaf351d651042b166",
            "54dd2fc3e67f48d5abf76e88044431aa",
            "649e38cef0f041f3a26355dc2924be8a",
            "0021f52adc454a9683ff25fe7beb29f9",
            "c2f37fdfcb5f49818d339ae5864643ff",
            "96f0699c16484d02bae577e4054c0843",
            "e1af3fcf75564e489884456b19637bc5",
            "c79510d33f4041ffbaac7c915cef2ef1",
            "a2190839d2504af1b49f89e619674b61",
            "ce04caa73d7840689f221e65b5c26abf",
            "2882d27c4a554e4aae69f1e46299a6ef"
          ]
        },
        "id": "b82137f4",
        "outputId": "32a2bb3a-af9c-440e-84e3-7c29a24332f8"
      },
      "outputs": [
        {
          "name": "stderr",
          "output_type": "stream",
          "text": [
            "/Users/riko_mogu/Library/Caches/pypoetry/virtualenvs/analysis-Zz4uMKO_-py3.12/lib/python3.12/site-packages/tqdm/auto.py:21: TqdmWarning: IProgress not found. Please update jupyter and ipywidgets. See https://ipywidgets.readthedocs.io/en/stable/user_install.html\n",
            "  from .autonotebook import tqdm as notebook_tqdm\n"
          ]
        }
      ],
      "source": [
        "from transformers import BertJapaneseTokenizer\n",
        "#import torch\n",
        "model_name = 'cl-tohoku/bert-base-japanese-whole-word-masking'\n",
        "tokenizer = BertJapaneseTokenizer.from_pretrained(model_name)"
      ]
    },
    {
      "cell_type": "code",
      "execution_count": 16,
      "id": "ef329c9c",
      "metadata": {
        "colab": {
          "base_uri": "https://localhost:8080/"
        },
        "id": "ef329c9c",
        "outputId": "e6ef3909-67bf-4b94-cc6e-8b86a0a86718"
      },
      "outputs": [
        {
          "name": "stdout",
          "output_type": "stream",
          "text": [
            "爆笑有名人のモノマネ5人連続当てるまで帰れませんwwwww\n"
          ]
        }
      ],
      "source": [
        "text = df_titles2.iloc[0,1]\n",
        "print(text)"
      ]
    },
    {
      "cell_type": "code",
      "execution_count": 17,
      "id": "3cbf4bde",
      "metadata": {
        "colab": {
          "base_uri": "https://localhost:8080/"
        },
        "id": "3cbf4bde",
        "outputId": "7bcfd1b4-cbb9-461b-d7c8-595d116b4e7d"
      },
      "outputs": [
        {
          "data": {
            "text/plain": [
              "['爆笑',\n",
              " '有名',\n",
              " '人',\n",
              " 'の',\n",
              " 'モノ',\n",
              " '##マネ',\n",
              " '5',\n",
              " '人',\n",
              " '連続',\n",
              " '当てる',\n",
              " 'まで',\n",
              " '帰',\n",
              " '##れ',\n",
              " 'ませ',\n",
              " 'ん',\n",
              " 'www',\n",
              " '##w',\n",
              " '##w']"
            ]
          },
          "execution_count": 17,
          "metadata": {},
          "output_type": "execute_result"
        }
      ],
      "source": [
        "token = tokenizer.tokenize(text)\n",
        "token"
      ]
    },
    {
      "cell_type": "code",
      "execution_count": 18,
      "id": "082c4bfb",
      "metadata": {
        "colab": {
          "base_uri": "https://localhost:8080/"
        },
        "id": "082c4bfb",
        "outputId": "1171ea2e-aaa7-4d1c-daa3-117c18b9e8f6"
      },
      "outputs": [
        {
          "data": {
            "text/plain": [
              "[2,\n",
              " 20769,\n",
              " 1948,\n",
              " 53,\n",
              " 5,\n",
              " 4916,\n",
              " 11361,\n",
              " 76,\n",
              " 53,\n",
              " 1557,\n",
              " 17081,\n",
              " 126,\n",
              " 1025,\n",
              " 28461,\n",
              " 6769,\n",
              " 1058,\n",
              " 21749,\n",
              " 29078,\n",
              " 29078,\n",
              " 3]"
            ]
          },
          "execution_count": 18,
          "metadata": {},
          "output_type": "execute_result"
        }
      ],
      "source": [
        "input_ids = tokenizer.encode(text)\n",
        "input_ids"
      ]
    },
    {
      "cell_type": "code",
      "execution_count": 19,
      "id": "15796f74",
      "metadata": {
        "colab": {
          "base_uri": "https://localhost:8080/"
        },
        "id": "15796f74",
        "outputId": "3404af63-af27-46ca-d4cb-4a42ba497113"
      },
      "outputs": [
        {
          "data": {
            "text/plain": [
              "['[CLS]',\n",
              " '爆笑',\n",
              " '有名',\n",
              " '人',\n",
              " 'の',\n",
              " 'モノ',\n",
              " '##マネ',\n",
              " '5',\n",
              " '人',\n",
              " '連続',\n",
              " '当てる',\n",
              " 'まで',\n",
              " '帰',\n",
              " '##れ',\n",
              " 'ませ',\n",
              " 'ん',\n",
              " 'www',\n",
              " '##w',\n",
              " '##w',\n",
              " '[SEP]']"
            ]
          },
          "execution_count": 19,
          "metadata": {},
          "output_type": "execute_result"
        }
      ],
      "source": [
        "tokens = tokenizer.convert_ids_to_tokens(input_ids)\n",
        "tokens"
      ]
    },
    {
      "cell_type": "code",
      "execution_count": 20,
      "id": "e74bbe2c",
      "metadata": {
        "colab": {
          "base_uri": "https://localhost:8080/"
        },
        "id": "e74bbe2c",
        "outputId": "c225a0b5-6df3-4996-ee31-2f3a97f3763c"
      },
      "outputs": [
        {
          "name": "stdout",
          "output_type": "stream",
          "text": [
            "最大単語数:  34\n"
          ]
        }
      ],
      "source": [
        "# encording用にタイトルの最大単語数を調べる\n",
        "\n",
        "max_len = []\n",
        "# 1文づつ処理\n",
        "for sentence in df_titles2['title']:\n",
        "    # Tokenizeで分割\n",
        "    words = tokenizer.tokenize(sentence)\n",
        "    max_len.append(len(words))\n",
        "# 最大の値を確認\n",
        "print('最大単語数: ', max(max_len))"
      ]
    },
    {
      "cell_type": "code",
      "execution_count": 21,
      "id": "0617a296",
      "metadata": {
        "colab": {
          "base_uri": "https://localhost:8080/",
          "height": 334
        },
        "id": "0617a296",
        "outputId": "54109564-456b-4884-a400-8106f87715f5"
      },
      "outputs": [
        {
          "name": "stdout",
          "output_type": "stream",
          "text": [
            "label\n",
            "1    100\n",
            "0    100\n",
            "Name: count, dtype: int64\n"
          ]
        },
        {
          "name": "stderr",
          "output_type": "stream",
          "text": [
            "/Users/riko_mogu/Library/Caches/pypoetry/virtualenvs/analysis-Zz4uMKO_-py3.12/lib/python3.12/site-packages/transformers/tokenization_utils_base.py:2700: FutureWarning: The `pad_to_max_length` argument is deprecated and will be removed in a future version, use `padding=True` or `padding='longest'` to pad to the longest sequence in the batch, or use `padding='max_length'` to pad to a max length. In this case, you can give a specific length with `max_length` (e.g. `max_length=45`) or leave max_length to None to pad to the maximal input size of the model (e.g. 512 for Bert).\n",
            "  warnings.warn(\n"
          ]
        },
        {
          "data": {
            "text/html": [
              "<div>\n",
              "<style scoped>\n",
              "    .dataframe tbody tr th:only-of-type {\n",
              "        vertical-align: middle;\n",
              "    }\n",
              "\n",
              "    .dataframe tbody tr th {\n",
              "        vertical-align: top;\n",
              "    }\n",
              "\n",
              "    .dataframe thead th {\n",
              "        text-align: right;\n",
              "    }\n",
              "</style>\n",
              "<table border=\"1\" class=\"dataframe\">\n",
              "  <thead>\n",
              "    <tr style=\"text-align: right;\">\n",
              "      <th></th>\n",
              "      <th>index</th>\n",
              "      <th>title</th>\n",
              "      <th>label</th>\n",
              "    </tr>\n",
              "  </thead>\n",
              "  <tbody>\n",
              "    <tr>\n",
              "      <th>0</th>\n",
              "      <td>1</td>\n",
              "      <td>爆笑有名人のモノマネ5人連続当てるまで帰れませんwwwww</td>\n",
              "      <td>1</td>\n",
              "    </tr>\n",
              "    <tr>\n",
              "      <th>1</th>\n",
              "      <td>2</td>\n",
              "      <td>3日間で1番ニキビ増やした人が勝ちのニキビ選手権がヤバすぎたwwww</td>\n",
              "      <td>1</td>\n",
              "    </tr>\n",
              "    <tr>\n",
              "      <th>2</th>\n",
              "      <td>3</td>\n",
              "      <td>対決1週間ピッチングを練習した男vs1週間バッティングを練習した男どっちが勝つのwww</td>\n",
              "      <td>1</td>\n",
              "    </tr>\n",
              "    <tr>\n",
              "      <th>3</th>\n",
              "      <td>4</td>\n",
              "      <td>これが分かったあなたはラスボスの器ですラスボス診断</td>\n",
              "      <td>1</td>\n",
              "    </tr>\n",
              "    <tr>\n",
              "      <th>4</th>\n",
              "      <td>5</td>\n",
              "      <td>喧嘩3回連続で回答を一致させるなが難しすぎて大揉めwwww</td>\n",
              "      <td>1</td>\n",
              "    </tr>\n",
              "  </tbody>\n",
              "</table>\n",
              "</div>"
            ],
            "text/plain": [
              "   index                                        title  label\n",
              "0      1                爆笑有名人のモノマネ5人連続当てるまで帰れませんwwwww      1\n",
              "1      2           3日間で1番ニキビ増やした人が勝ちのニキビ選手権がヤバすぎたwwww      1\n",
              "2      3  対決1週間ピッチングを練習した男vs1週間バッティングを練習した男どっちが勝つのwww      1\n",
              "3      4                    これが分かったあなたはラスボスの器ですラスボス診断      1\n",
              "4      5                喧嘩3回連続で回答を一致させるなが難しすぎて大揉めwwww      1"
            ]
          },
          "execution_count": 21,
          "metadata": {},
          "output_type": "execute_result"
        }
      ],
      "source": [
        "from transformers import BertJapaneseTokenizer\n",
        "import torch\n",
        "model_name = 'cl-tohoku/bert-base-japanese-whole-word-masking'\n",
        "tokenizer = BertJapaneseTokenizer.from_pretrained(model_name)\n",
        "input_ids = []\n",
        "attention_masks = []\n",
        "\n",
        "# 1文づつ処理\n",
        "for sentence in df_titles2['title']:\n",
        "    encoded_dict = tokenizer.encode_plus(\n",
        "                        sentence,\n",
        "                        add_special_tokens = True, # Special Tokenの追加\n",
        "                        max_length = 34,           # 文章の長さを固定（Padding/Trancatinating）\n",
        "                        pad_to_max_length = True,# PADDINGで埋める\n",
        "                        truncation=True,\n",
        "                        return_attention_mask = True,   # Attention maksの作成\n",
        "                        return_tensors = 'pt',     #  Pytorch tensorsで返す\n",
        "                   )\n",
        "\n",
        "    # 単語IDを取得\n",
        "    input_ids.append(encoded_dict['input_ids'])\n",
        "\n",
        "    # Attention　maskの取得\n",
        "    attention_masks.append(encoded_dict['attention_mask'])\n",
        "\n",
        "# リストに入ったtensorを縦方向（dim=0）へ結合\n",
        "input_ids = torch.cat(input_ids, dim=0)\n",
        "attention_masks = torch.cat(attention_masks, dim=0)\n",
        "\n",
        "label = torch.tensor(df_titles2['label'].values, dtype=torch.long)\n",
        "print(df_titles2['label'].value_counts())\n",
        "df_titles2.head()\n"
      ]
    },
    {
      "cell_type": "code",
      "execution_count": 22,
      "id": "5c6099ed",
      "metadata": {
        "colab": {
          "base_uri": "https://localhost:8080/"
        },
        "id": "5c6099ed",
        "outputId": "6f49f333-8bc8-442e-e1a5-a91d93affa8e"
      },
      "outputs": [
        {
          "name": "stdout",
          "output_type": "stream",
          "text": [
            "[UNK] トークンが含まれている行数: 5\n",
            "<class 'pandas.core.frame.DataFrame'>\n",
            "RangeIndex: 200 entries, 0 to 199\n",
            "Data columns (total 3 columns):\n",
            " #   Column  Non-Null Count  Dtype \n",
            "---  ------  --------------  ----- \n",
            " 0   index   200 non-null    int64 \n",
            " 1   title   200 non-null    object\n",
            " 2   label   200 non-null    int64 \n",
            "dtypes: int64(2), object(1)\n",
            "memory usage: 4.8+ KB\n"
          ]
        }
      ],
      "source": [
        "# 確認\n",
        "# [UNK]トークンのIDは100\n",
        "unk_token_id = tokenizer.convert_tokens_to_ids(\"[UNK]\")\n",
        "\n",
        "# [UNK]トークンが含まれているかをチェックする関数\n",
        "def contains_unk_token(input_id_list):\n",
        "    return unk_token_id in input_id_list\n",
        "\n",
        "# [UNK]トークンが含まれている行数をカウント\n",
        "unk_rows = sum(1 for ids in input_ids if contains_unk_token(ids.tolist()))\n",
        "\n",
        "print(f\"[UNK] トークンが含まれている行数: {unk_rows}\")\n",
        "df_titles2.info()\n"
      ]
    },
    {
      "cell_type": "code",
      "execution_count": 23,
      "id": "636677eb",
      "metadata": {
        "colab": {
          "base_uri": "https://localhost:8080/"
        },
        "id": "636677eb",
        "outputId": "3a2267e7-88a6-4da3-b68b-7142b4c03ec5"
      },
      "outputs": [
        {
          "name": "stdout",
          "output_type": "stream",
          "text": [
            "訓練データ数：180\n",
            "テストデータ数:20 \n",
            "(tensor([    2,  6712,  1409,  2794,  1127, 28534,    17,   246,   314, 28557,\n",
            "        28457, 18874, 17763,     1,    12,  2147,    17,     5,  2058, 29349,\n",
            "           14,  3836,  4302, 28477,  3913,    10, 21749, 29078,  3571,  1151,\n",
            "         2529,  1640, 28582,     3]), tensor([1, 1, 1, 1, 1, 1, 1, 1, 1, 1, 1, 1, 1, 1, 1, 1, 1, 1, 1, 1, 1, 1, 1, 1,\n",
            "        1, 1, 1, 1, 1, 1, 1, 1, 1, 1]), tensor(1))\n",
            "<class 'torch.utils.data.dataset.Subset'>\n"
          ]
        }
      ],
      "source": [
        "from torch.utils.data import TensorDataset, random_split\n",
        "from torch.utils.data import DataLoader, RandomSampler, SequentialSampler\n",
        "\n",
        "# データセットクラスの作成\n",
        "dataset = TensorDataset(input_ids, attention_masks, label)\n",
        "\n",
        "# 70%地点のIDを取得\n",
        "train_size = int(0.9 * len(dataset))\n",
        "test_size = len(dataset) - train_size\n",
        "\n",
        "# データセットを分割\n",
        "train_dataset, test_dataset = random_split(dataset, [train_size, test_size])\n",
        "\n",
        "print('訓練データ数：{}'.format(train_size))\n",
        "print('テストデータ数:{} '.format(test_size))\n",
        "\n",
        "# データローダーの作成\n",
        "batch_size = 8\n",
        "\n",
        "# 訓練データローダー\n",
        "train_dataloader = DataLoader(\n",
        "            train_dataset,\n",
        "            sampler = RandomSampler(train_dataset), # ランダムにデータを取得してバッチ化\n",
        "            batch_size = batch_size\n",
        "        )\n",
        "\n",
        "# 検証データローダー\n",
        "test_dataloader = DataLoader(\n",
        "            test_dataset,\n",
        "            sampler = SequentialSampler(test_dataset), # 順番にデータを取得してバッチ化\n",
        "            batch_size = batch_size\n",
        "        )\n",
        "print(train_dataset[0])  # 例として訓練データセットの最初のデータを確認)\n",
        "print(type(test_dataset))\n"
      ]
    },
    {
      "cell_type": "code",
      "execution_count": 24,
      "id": "50ea5997",
      "metadata": {
        "colab": {
          "base_uri": "https://localhost:8080/"
        },
        "id": "50ea5997",
        "outputId": "65a52e1d-9433-4e8b-dab3-bdeeb7be1ef0"
      },
      "outputs": [
        {
          "name": "stdout",
          "output_type": "stream",
          "text": [
            "<class '__main__.CustomDataset'>\n"
          ]
        }
      ],
      "source": [
        "from torch.utils.data import Dataset\n",
        "\n",
        "class CustomDataset(Dataset):\n",
        "    def __init__(self, subset):\n",
        "        self.subset = subset\n",
        "\n",
        "    def __len__(self):\n",
        "        return len(self.subset)\n",
        "\n",
        "    def __getitem__(self, idx):\n",
        "        # Subset から idx 番目のデータを取得\n",
        "        input_ids, attention_mask, label = self.subset[idx]\n",
        "        # Trainer が期待する形式に変換\n",
        "        return {\n",
        "            'input_ids': input_ids,\n",
        "            'attention_mask': attention_mask,\n",
        "            'label': label\n",
        "        }\n",
        "\n",
        "# Subset をラップ\n",
        "train_dataset_wrapped = CustomDataset(train_dataset)\n",
        "test_dataset_wrapped = CustomDataset(test_dataset)\n",
        "\n",
        "print(type(train_dataset_wrapped))  # <class 'CustomDataset'>\n"
      ]
    },
    {
      "cell_type": "code",
      "execution_count": 25,
      "id": "9d1b1aef",
      "metadata": {
        "colab": {
          "base_uri": "https://localhost:8080/"
        },
        "id": "9d1b1aef",
        "outputId": "d93e78e1-3054-4f73-be6e-397811132699"
      },
      "outputs": [
        {
          "name": "stdout",
          "output_type": "stream",
          "text": [
            "Start import\n",
            "Done import\n"
          ]
        }
      ],
      "source": [
        "print(\"Start import\")\n",
        "from transformers import BertForSequenceClassification, BertConfig\n",
        "print(\"Done import\")\n"
      ]
    },
    {
      "cell_type": "code",
      "execution_count": 26,
      "id": "1dbdf9fd",
      "metadata": {
        "colab": {
          "base_uri": "https://localhost:8080/",
          "height": 950,
          "referenced_widgets": [
            "c7accddf0a2d472e8819f3c956f96fa7",
            "4f875030dbe24b02819371e72ee5a443",
            "c7f8c68b001b4c91817790496066e4db",
            "9e968061fe1e4ad188f76dae9a86df68",
            "434c646cf13641cca187ed33e816e4b2",
            "3ac970007ab64a19a9f2d927ebb170e3",
            "1ccf4371512c4e79a7d79595d935b0f3",
            "b7707cc287c14e4ba47112b703863e90",
            "b10d860aa3b846b38cd813418c9f3689",
            "321ac26f80a34d439670b8f2c3100273",
            "de9ccb359726417890e20081fe8c2393"
          ]
        },
        "id": "1dbdf9fd",
        "outputId": "250d1061-6323-4dd7-f62d-88bf77f6cd9a"
      },
      "outputs": [
        {
          "name": "stdout",
          "output_type": "stream",
          "text": [
            "Loading model...\n"
          ]
        },
        {
          "name": "stderr",
          "output_type": "stream",
          "text": [
            "Some weights of BertForSequenceClassification were not initialized from the model checkpoint at cl-tohoku/bert-base-japanese-whole-word-masking and are newly initialized: ['classifier.bias', 'classifier.weight']\n",
            "You should probably TRAIN this model on a down-stream task to be able to use it for predictions and inference.\n"
          ]
        },
        {
          "name": "stdout",
          "output_type": "stream",
          "text": [
            "Model loaded.\n"
          ]
        },
        {
          "data": {
            "text/plain": [
              "BertForSequenceClassification(\n",
              "  (bert): BertModel(\n",
              "    (embeddings): BertEmbeddings(\n",
              "      (word_embeddings): Embedding(32000, 768, padding_idx=0)\n",
              "      (position_embeddings): Embedding(512, 768)\n",
              "      (token_type_embeddings): Embedding(2, 768)\n",
              "      (LayerNorm): LayerNorm((768,), eps=1e-12, elementwise_affine=True)\n",
              "      (dropout): Dropout(p=0.1, inplace=False)\n",
              "    )\n",
              "    (encoder): BertEncoder(\n",
              "      (layer): ModuleList(\n",
              "        (0-11): 12 x BertLayer(\n",
              "          (attention): BertAttention(\n",
              "            (self): BertSdpaSelfAttention(\n",
              "              (query): Linear(in_features=768, out_features=768, bias=True)\n",
              "              (key): Linear(in_features=768, out_features=768, bias=True)\n",
              "              (value): Linear(in_features=768, out_features=768, bias=True)\n",
              "              (dropout): Dropout(p=0.1, inplace=False)\n",
              "            )\n",
              "            (output): BertSelfOutput(\n",
              "              (dense): Linear(in_features=768, out_features=768, bias=True)\n",
              "              (LayerNorm): LayerNorm((768,), eps=1e-12, elementwise_affine=True)\n",
              "              (dropout): Dropout(p=0.1, inplace=False)\n",
              "            )\n",
              "          )\n",
              "          (intermediate): BertIntermediate(\n",
              "            (dense): Linear(in_features=768, out_features=3072, bias=True)\n",
              "            (intermediate_act_fn): GELUActivation()\n",
              "          )\n",
              "          (output): BertOutput(\n",
              "            (dense): Linear(in_features=3072, out_features=768, bias=True)\n",
              "            (LayerNorm): LayerNorm((768,), eps=1e-12, elementwise_affine=True)\n",
              "            (dropout): Dropout(p=0.1, inplace=False)\n",
              "          )\n",
              "        )\n",
              "      )\n",
              "    )\n",
              "    (pooler): BertPooler(\n",
              "      (dense): Linear(in_features=768, out_features=768, bias=True)\n",
              "      (activation): Tanh()\n",
              "    )\n",
              "  )\n",
              "  (dropout): Dropout(p=0.1, inplace=False)\n",
              "  (classifier): Linear(in_features=768, out_features=2, bias=True)\n",
              ")"
            ]
          },
          "execution_count": 26,
          "metadata": {},
          "output_type": "execute_result"
        }
      ],
      "source": [
        "# from transformers import BertForSequenceClassification, BertConfig\n",
        "# #from transformers.optimization import AdamW\n",
        "\n",
        "print(\"Loading model...\")\n",
        "# BertForSequenceClassification 学習済みモデルのロード\n",
        "model = BertForSequenceClassification.from_pretrained(\n",
        "    \"cl-tohoku/bert-base-japanese-whole-word-masking\", # 日本語Pre trainedモデルの指定\n",
        "    num_labels = 2, # ラベル数\n",
        "    output_attentions = True, # アテンションベクトルを出力するか\n",
        "    output_hidden_states = False, # 隠れ層を出力するか\n",
        ")\n",
        "print(\"Model loaded.\")\n",
        "#cudaを用いる時は以下をコメントアウトしてください\n",
        "#device = torch.device(\"cuda\" if torch.cuda.is_available() else \"cpu\")\n",
        "device = torch.device('cpu')\n",
        "model.to(device)"
      ]
    },
    {
      "cell_type": "code",
      "execution_count": 27,
      "id": "d977a924",
      "metadata": {
        "id": "d977a924",
        "outputId": "cae10770-4744-4552-d909-e8bef9b1ca48"
      },
      "outputs": [
        {
          "name": "stdout",
          "output_type": "stream",
          "text": [
            "2\n"
          ]
        }
      ],
      "source": [
        "print(df_titles2['label'].nunique())\n"
      ]
    },
    {
      "cell_type": "code",
      "execution_count": 28,
      "id": "db052f6e",
      "metadata": {
        "id": "db052f6e"
      },
      "outputs": [],
      "source": [
        "from transformers import TrainingArguments\n",
        "\n",
        "training_args = TrainingArguments(\n",
        "    output_dir=\"./data/results\",            # 結果の保存先\n",
        "    num_train_epochs=5,                     # エポック数\n",
        "    per_device_train_batch_size=8,         # トレーニングバッチサイズ (GPUメモリに応じて調整)\n",
        "    per_device_eval_batch_size=8,          # 評価バッチサイズ\n",
        "    warmup_steps=500,                       # 学習率のウォームアップステップ\n",
        "    weight_decay=0.01,                      # 重み減衰（L2正則化）\n",
        "    logging_dir=\"./data/logs\",             # ログファイルの保存先\n",
        "    logging_steps=30,                       # ログ出力頻度\n",
        "    #save_steps=5000,                       # モデル保存の頻度(save_strategy=\"step\"の場合使用)\n",
        "    save_total_limit=3,                     # 最大保存モデル数\n",
        "    save_strategy=\"epoch\",                  # saveの単位を選択 (デフォルトはsteps)\n",
        "    eval_strategy=\"epoch\",                  # 評価の頻度（\"steps\", \"epoch\"と選べる）\n",
        "    #eval_steps=15000,                       # 評価の頻度(eval_strategy=\"steps\"の場合使用)\n",
        "    load_best_model_at_end=True,            # 最良モデルを終了時にロード\n",
        "    metric_for_best_model=\"f1\",             # 最良モデルを選定する指標\n",
        "    report_to=\"tensorboard\",                # TensorBoardでのログ出力\n",
        "    do_train=True,                          # トレーニングを実行\n",
        "    do_eval=True,                           # 評価を実行\n",
        ")\n",
        "\n"
      ]
    },
    {
      "cell_type": "code",
      "execution_count": 29,
      "id": "0530b113",
      "metadata": {
        "id": "0530b113"
      },
      "outputs": [],
      "source": [
        "from sklearn.metrics import accuracy_score, precision_score, recall_score, f1_score, matthews_corrcoef\n",
        "import numpy as np\n",
        "\n",
        "def compute_metrics(p):\n",
        "    # 予測結果から最大確率クラスを取得\n",
        "    logits = p.predictions[0]  # logitsだけを取り出す\n",
        "    predictions = logits.argmax(-1)\n",
        "    labels = p.label_ids  # 正解ラベルを取得\n",
        "    accuracy = accuracy_score(labels, predictions)\n",
        "    precision = precision_score(labels, predictions, average='weighted')\n",
        "    recall = recall_score(labels, predictions, average='weighted')\n",
        "    f1 = f1_score(labels, predictions, average='weighted')\n",
        "    mcc = matthews_corrcoef(labels, predictions)\n",
        "    return {\n",
        "        'accuracy': accuracy,\n",
        "        'precision': precision,\n",
        "        'recall': recall,\n",
        "        'f1': f1,\n",
        "        'mcc': mcc\n",
        "    }"
      ]
    },
    {
      "cell_type": "code",
      "execution_count": 30,
      "id": "uMC3zTLzHsLY",
      "metadata": {
        "id": "uMC3zTLzHsLY"
      },
      "outputs": [],
      "source": [
        "from transformers import TrainerCallback\n",
        "class CustomCallback(TrainerCallback):\n",
        "    def __init__(self):\n",
        "        self.logs = []\n",
        "\n",
        "    def on_log(self, args, state, control, logs=None, **kwargs):\n",
        "        self.logs.append(logs)\n",
        "\n",
        "custom_callback = CustomCallback()"
      ]
    },
    {
      "cell_type": "code",
      "execution_count": 31,
      "id": "Rr2GepuVHbyU",
      "metadata": {
        "colab": {
          "base_uri": "https://localhost:8080/",
          "height": 342
        },
        "id": "Rr2GepuVHbyU",
        "outputId": "8a5faa8d-776c-493e-81aa-a8927b27eaa7"
      },
      "outputs": [
        {
          "name": "stderr",
          "output_type": "stream",
          "text": [
            "/Users/riko_mogu/Library/Caches/pypoetry/virtualenvs/analysis-Zz4uMKO_-py3.12/lib/python3.12/site-packages/torch/utils/data/dataloader.py:665: UserWarning: 'pin_memory' argument is set as true but no accelerator is found, then device pinned memory won't be used.\n",
            "  warnings.warn(warn_msg)\n",
            "BertSdpaSelfAttention is used but `torch.nn.functional.scaled_dot_product_attention` does not support non-absolute `position_embedding_type` or `output_attentions=True` or `head_mask`. Falling back to the manual attention implementation, but specifying the manual implementation will be required from Transformers version v5.0.0 onwards. This warning can be removed using the argument `attn_implementation=\"eager\"` when loading the model.\n"
          ]
        },
        {
          "data": {
            "text/html": [
              "\n",
              "    <div>\n",
              "      \n",
              "      <progress value='115' max='115' style='width:300px; height:20px; vertical-align: middle;'></progress>\n",
              "      [115/115 02:04, Epoch 5/5]\n",
              "    </div>\n",
              "    <table border=\"1\" class=\"dataframe\">\n",
              "  <thead>\n",
              " <tr style=\"text-align: left;\">\n",
              "      <th>Epoch</th>\n",
              "      <th>Training Loss</th>\n",
              "      <th>Validation Loss</th>\n",
              "      <th>Accuracy</th>\n",
              "      <th>Precision</th>\n",
              "      <th>Recall</th>\n",
              "      <th>F1</th>\n",
              "      <th>Mcc</th>\n",
              "    </tr>\n",
              "  </thead>\n",
              "  <tbody>\n",
              "    <tr>\n",
              "      <td>1</td>\n",
              "      <td>No log</td>\n",
              "      <td>0.680592</td>\n",
              "      <td>0.550000</td>\n",
              "      <td>0.598039</td>\n",
              "      <td>0.550000</td>\n",
              "      <td>0.487179</td>\n",
              "      <td>0.140028</td>\n",
              "    </tr>\n",
              "    <tr>\n",
              "      <td>2</td>\n",
              "      <td>0.700300</td>\n",
              "      <td>0.672773</td>\n",
              "      <td>0.700000</td>\n",
              "      <td>0.708333</td>\n",
              "      <td>0.700000</td>\n",
              "      <td>0.696970</td>\n",
              "      <td>0.408248</td>\n",
              "    </tr>\n",
              "    <tr>\n",
              "      <td>3</td>\n",
              "      <td>0.676100</td>\n",
              "      <td>0.675067</td>\n",
              "      <td>0.650000</td>\n",
              "      <td>0.651515</td>\n",
              "      <td>0.650000</td>\n",
              "      <td>0.649123</td>\n",
              "      <td>0.301511</td>\n",
              "    </tr>\n",
              "    <tr>\n",
              "      <td>4</td>\n",
              "      <td>0.630300</td>\n",
              "      <td>0.680869</td>\n",
              "      <td>0.400000</td>\n",
              "      <td>0.380952</td>\n",
              "      <td>0.400000</td>\n",
              "      <td>0.375000</td>\n",
              "      <td>-0.218218</td>\n",
              "    </tr>\n",
              "    <tr>\n",
              "      <td>5</td>\n",
              "      <td>0.630300</td>\n",
              "      <td>0.677769</td>\n",
              "      <td>0.550000</td>\n",
              "      <td>0.550505</td>\n",
              "      <td>0.550000</td>\n",
              "      <td>0.548872</td>\n",
              "      <td>0.100504</td>\n",
              "    </tr>\n",
              "  </tbody>\n",
              "</table><p>"
            ],
            "text/plain": [
              "<IPython.core.display.HTML object>"
            ]
          },
          "metadata": {},
          "output_type": "display_data"
        },
        {
          "name": "stderr",
          "output_type": "stream",
          "text": [
            "/Users/riko_mogu/Library/Caches/pypoetry/virtualenvs/analysis-Zz4uMKO_-py3.12/lib/python3.12/site-packages/torch/utils/data/dataloader.py:665: UserWarning: 'pin_memory' argument is set as true but no accelerator is found, then device pinned memory won't be used.\n",
            "  warnings.warn(warn_msg)\n",
            "/Users/riko_mogu/Library/Caches/pypoetry/virtualenvs/analysis-Zz4uMKO_-py3.12/lib/python3.12/site-packages/torch/utils/data/dataloader.py:665: UserWarning: 'pin_memory' argument is set as true but no accelerator is found, then device pinned memory won't be used.\n",
            "  warnings.warn(warn_msg)\n",
            "/Users/riko_mogu/Library/Caches/pypoetry/virtualenvs/analysis-Zz4uMKO_-py3.12/lib/python3.12/site-packages/torch/utils/data/dataloader.py:665: UserWarning: 'pin_memory' argument is set as true but no accelerator is found, then device pinned memory won't be used.\n",
            "  warnings.warn(warn_msg)\n",
            "/Users/riko_mogu/Library/Caches/pypoetry/virtualenvs/analysis-Zz4uMKO_-py3.12/lib/python3.12/site-packages/torch/utils/data/dataloader.py:665: UserWarning: 'pin_memory' argument is set as true but no accelerator is found, then device pinned memory won't be used.\n",
            "  warnings.warn(warn_msg)\n"
          ]
        },
        {
          "data": {
            "text/plain": [
              "TrainOutput(global_step=115, training_loss=0.6371432097061821, metrics={'train_runtime': 125.4309, 'train_samples_per_second': 7.175, 'train_steps_per_second': 0.917, 'total_flos': 15724996668000.0, 'train_loss': 0.6371432097061821, 'epoch': 5.0})"
            ]
          },
          "execution_count": 31,
          "metadata": {},
          "output_type": "execute_result"
        }
      ],
      "source": [
        "from transformers import Trainer\n",
        "\n",
        "# Trainerの初期化\n",
        "trainer = Trainer(\n",
        "    model=model,                         # 先程初期化したモデル\n",
        "    args=training_args,                  # トレーニング設定\n",
        "    train_dataset=train_dataset_wrapped,         # 訓練データセット\n",
        "    eval_dataset=test_dataset_wrapped,           # 評価データセット\n",
        "    compute_metrics=compute_metrics,     # 評価指標の関数\n",
        "    callbacks=[custom_callback]          # コールバック関数\n",
        ")\n",
        "\n",
        "# 訓練開始\n",
        "trainer.train()"
      ]
    },
    {
      "cell_type": "code",
      "execution_count": 32,
      "id": "F5cRpxgVHgbE",
      "metadata": {
        "colab": {
          "base_uri": "https://localhost:8080/",
          "height": 217
        },
        "id": "F5cRpxgVHgbE",
        "outputId": "332d12f1-680c-428b-9193-afce010dae87"
      },
      "outputs": [
        {
          "name": "stderr",
          "output_type": "stream",
          "text": [
            "/Users/riko_mogu/Library/Caches/pypoetry/virtualenvs/analysis-Zz4uMKO_-py3.12/lib/python3.12/site-packages/torch/utils/data/dataloader.py:665: UserWarning: 'pin_memory' argument is set as true but no accelerator is found, then device pinned memory won't be used.\n",
            "  warnings.warn(warn_msg)\n"
          ]
        },
        {
          "data": {
            "text/html": [],
            "text/plain": [
              "<IPython.core.display.HTML object>"
            ]
          },
          "metadata": {},
          "output_type": "display_data"
        },
        {
          "data": {
            "text/plain": [
              "{'eval_loss': 0.6727726459503174,\n",
              " 'eval_accuracy': 0.7,\n",
              " 'eval_precision': 0.7083333333333333,\n",
              " 'eval_recall': 0.7,\n",
              " 'eval_f1': 0.696969696969697,\n",
              " 'eval_mcc': 0.408248290463863,\n",
              " 'eval_runtime': 0.3367,\n",
              " 'eval_samples_per_second': 59.408,\n",
              " 'eval_steps_per_second': 8.911,\n",
              " 'epoch': 5.0}"
            ]
          },
          "execution_count": 32,
          "metadata": {},
          "output_type": "execute_result"
        }
      ],
      "source": [
        "# test_dataset_wrappedを使って検証する\n",
        "trainer.evaluate()"
      ]
    },
    {
      "cell_type": "code",
      "execution_count": 33,
      "id": "TeMX2ZLVK4tF",
      "metadata": {
        "colab": {
          "base_uri": "https://localhost:8080/",
          "height": 487
        },
        "id": "TeMX2ZLVK4tF",
        "outputId": "72e61960-5a16-4a74-a47a-01063dfcded9"
      },
      "outputs": [
        {
          "data": {
            "image/png": "[encoded data removed]",
            "text/plain": [
              "<Figure size 1200x500 with 2 Axes>"
            ]
          },
          "metadata": {},
          "output_type": "display_data"
        }
      ],
      "source": [
        "import matplotlib.pyplot as plt\n",
        "\n",
        "# ログを取り出し\n",
        "losses = [log['loss'] for log in custom_callback.logs if 'loss' in log]\n",
        "eval_losses = [log['eval_loss'] for log in custom_callback.logs if 'eval_loss' in log]\n",
        "\n",
        "# プロット\n",
        "plt.figure(figsize=(12, 5))\n",
        "\n",
        "# training_lossのプロット\n",
        "plt.subplot(1, 2, 1)\n",
        "plt.plot([i * 30 for i in range(len(losses))], losses, label='Training Loss')\n",
        "plt.title('Training Loss')\n",
        "plt.xlabel('Steps')\n",
        "plt.ylabel('Loss')\n",
        "plt.legend()\n",
        "\n",
        "# eval_lossのプロット\n",
        "plt.subplot(1, 2, 2)\n",
        "plt.plot([i for i in range(len(eval_losses))], eval_losses, label='Validation Loss', color='orange')\n",
        "plt.title('Validation Loss')\n",
        "plt.xlabel('Epoch')\n",
        "plt.ylabel('Loss')\n",
        "plt.legend()\n",
        "\n",
        "plt.show()\n"
      ]
    },
    {
      "cell_type": "code",
      "execution_count": 34,
      "id": "Dw4BDG8VcqtK",
      "metadata": {
        "colab": {
          "base_uri": "https://localhost:8080/",
          "height": 564
        },
        "id": "Dw4BDG8VcqtK",
        "outputId": "b12f254e-a699-45f7-b1df-35d4197e8e34"
      },
      "outputs": [
        {
          "name": "stderr",
          "output_type": "stream",
          "text": [
            "/Users/riko_mogu/Library/Caches/pypoetry/virtualenvs/analysis-Zz4uMKO_-py3.12/lib/python3.12/site-packages/torch/utils/data/dataloader.py:665: UserWarning: 'pin_memory' argument is set as true but no accelerator is found, then device pinned memory won't be used.\n",
            "  warnings.warn(warn_msg)\n"
          ]
        },
        {
          "data": {
            "image/png": "[encoded data removed]",
            "text/plain": [
              "<Figure size 800x600 with 2 Axes>"
            ]
          },
          "metadata": {},
          "output_type": "display_data"
        }
      ],
      "source": [
        "from sklearn.metrics import confusion_matrix\n",
        "import seaborn as sns\n",
        "# 予測とラベル\n",
        "predictions = trainer.predict(test_dataset_wrapped)\n",
        "y_true = np.array(predictions.label_ids).squeeze()\n",
        "y_pred = np.argmax(predictions.predictions[0], axis=1)  # タプルになっているか確認！\n",
        "\n",
        "# クラス名リスト\n",
        "unique = sorted(set(y_true) | set(y_pred))\n",
        "\n",
        "# 混同行列\n",
        "cm = confusion_matrix(y_true, y_pred)\n",
        "\n",
        "# プロット\n",
        "plt.figure(figsize=(8, 6))\n",
        "sns.heatmap(cm, annot=True, fmt=\"d\", cmap=\"Blues\", xticklabels=unique, yticklabels=unique)\n",
        "plt.xlabel('Predicted Label')\n",
        "plt.ylabel('True Label')\n",
        "plt.title('Confusion Matrix')\n",
        "plt.show()\n"
      ]
    },
    {
      "cell_type": "markdown",
      "id": "d9I6UrX-LIV0",
      "metadata": {
        "id": "d9I6UrX-LIV0"
      },
      "source": [
        "## クラス別アテンションスコア"
      ]
    },
    {
      "cell_type": "code",
      "execution_count": null,
      "id": "TLt3A22JMH8W",
      "metadata": {
        "colab": {
          "base_uri": "https://localhost:8080/"
        },
        "id": "TLt3A22JMH8W",
        "outputId": "1cae7af0-7da5-4566-ce81-0a7d77c5b54c"
      },
      "outputs": [
        {
          "name": "stdout",
          "output_type": "stream",
          "text": [
            "Collecting japanize-matplotlib\n",
            "  Downloading japanize-matplotlib-1.1.3.tar.gz (4.1 MB)\n",
            "\u001b[2K     \u001b[90m━━━━━━━━━━━━━━━━━━━━━━━━━━━━━━━━━━━━━━━━\u001b[0m \u001b[32m4.1/4.1 MB\u001b[0m \u001b[31m23.2 MB/s\u001b[0m eta \u001b[36m0:00:00\u001b[0m\n",
            "\u001b[?25h  Preparing metadata (setup.py) ... \u001b[?25l\u001b[?25hdone\n",
            "Requirement already satisfied: matplotlib in /usr/local/lib/python3.11/dist-packages (from japanize-matplotlib) (3.10.0)\n",
            "Requirement already satisfied: contourpy>=1.0.1 in /usr/local/lib/python3.11/dist-packages (from matplotlib->japanize-matplotlib) (1.3.2)\n",
            "Requirement already satisfied: cycler>=0.10 in /usr/local/lib/python3.11/dist-packages (from matplotlib->japanize-matplotlib) (0.12.1)\n",
            "Requirement already satisfied: fonttools>=4.22.0 in /usr/local/lib/python3.11/dist-packages (from matplotlib->japanize-matplotlib) (4.57.0)\n",
            "Requirement already satisfied: kiwisolver>=1.3.1 in /usr/local/lib/python3.11/dist-packages (from matplotlib->japanize-matplotlib) (1.4.8)\n",
            "Requirement already satisfied: numpy>=1.23 in /usr/local/lib/python3.11/dist-packages (from matplotlib->japanize-matplotlib) (2.0.2)\n",
            "Requirement already satisfied: packaging>=20.0 in /usr/local/lib/python3.11/dist-packages (from matplotlib->japanize-matplotlib) (24.2)\n",
            "Requirement already satisfied: pillow>=8 in /usr/local/lib/python3.11/dist-packages (from matplotlib->japanize-matplotlib) (11.2.1)\n",
            "Requirement already satisfied: pyparsing>=2.3.1 in /usr/local/lib/python3.11/dist-packages (from matplotlib->japanize-matplotlib) (3.2.3)\n",
            "Requirement already satisfied: python-dateutil>=2.7 in /usr/local/lib/python3.11/dist-packages (from matplotlib->japanize-matplotlib) (2.9.0.post0)\n",
            "Requirement already satisfied: six>=1.5 in /usr/local/lib/python3.11/dist-packages (from python-dateutil>=2.7->matplotlib->japanize-matplotlib) (1.17.0)\n",
            "Building wheels for collected packages: japanize-matplotlib\n",
            "  Building wheel for japanize-matplotlib (setup.py) ... \u001b[?25l\u001b[?25hdone\n",
            "  Created wheel for japanize-matplotlib: filename=japanize_matplotlib-1.1.3-py3-none-any.whl size=4120257 sha256=7ec508c035e313792a2c60be3c52d6678a7e1bb41c08bf4bfe87c0f13669c08d\n",
            "  Stored in directory: /root/.cache/pip/wheels/da/a1/71/b8faeb93276fed10edffcca20746f1ef6f8d9e071eee8425fc\n",
            "Successfully built japanize-matplotlib\n",
            "Installing collected packages: japanize-matplotlib\n",
            "Successfully installed japanize-matplotlib-1.1.3\n"
          ]
        }
      ],
      "source": [
        "!pip install japanize-matplotlib"
      ]
    },
    {
      "cell_type": "code",
      "execution_count": 35,
      "id": "91v7nntzLGMV",
      "metadata": {
        "colab": {
          "base_uri": "https://localhost:8080/",
          "height": 1000
        },
        "id": "91v7nntzLGMV",
        "outputId": "5ed9f33f-353b-471b-fbfd-9b6a3fa8b7de"
      },
      "outputs": [
        {
          "name": "stderr",
          "output_type": "stream",
          "text": [
            "The tokenizer class you load from this checkpoint is not the same type as the class this function is called from. It may result in unexpected tokenization. \n",
            "The tokenizer class you load from this checkpoint is 'BertJapaneseTokenizer'. \n",
            "The class this function is called from is 'BertTokenizer'.\n"
          ]
        },
        {
          "data": {
            "image/png": "[encoded data removed]",
            "text/plain": [
              "<Figure size 1200x1000 with 1 Axes>"
            ]
          },
          "metadata": {},
          "output_type": "display_data"
        },
        {
          "data": {
            "image/png": "[encoded data removed]",
            "text/plain": [
              "<Figure size 1200x1000 with 1 Axes>"
            ]
          },
          "metadata": {},
          "output_type": "display_data"
        }
      ],
      "source": [
        "import torch\n",
        "import numpy as np\n",
        "import matplotlib.pyplot as plt\n",
        "from torch.utils.data import DataLoader\n",
        "from transformers import BertTokenizer\n",
        "import japanize_matplotlib\n",
        "\n",
        "\n",
        "# トークン化のためのBERTトークナイザーを初期化\n",
        "tokenizer = BertTokenizer.from_pretrained(\"cl-tohoku/bert-base-japanese-whole-word-masking\")\n",
        "\n",
        "# 特別なトークンを定義\n",
        "special_tokens = ['[PAD]', '[CLS]', '[SEP]', '[UNK]']\n",
        "particles = ['は', 'が', 'を', 'に', 'へ', 'と', 'で', 'の', 'も', 'ね', 'よ']\n",
        "\n",
        "def filter_tokens(attention_weights, input_ids):\n",
        "    filtered_tokens = []\n",
        "    filtered_weights = []\n",
        "\n",
        "    for weight, token_id in zip(attention_weights, input_ids):\n",
        "        token = tokenizer.decode([token_id])\n",
        "        if token not in special_tokens and token not in particles:\n",
        "            filtered_tokens.append(token)\n",
        "            filtered_weights.append(weight)\n",
        "\n",
        "    return filtered_tokens, filtered_weights\n",
        "\n",
        "label_attention = {}\n",
        "num_labels = 10\n",
        "device = torch.device('cpu')  # CUDAをデバイスとして指定\n",
        "\n",
        "model.to(device)\n",
        "\n",
        "# ラベルごとのアテンションスコアを計算\n",
        "for batch in test_dataset_wrapped:\n",
        "    # バッチ内のデータをデバイスに移動\n",
        "    input_ids = batch['input_ids'].unsqueeze(0).to(device)\n",
        "    attention_mask = batch['attention_mask'].unsqueeze(0).to(device)\n",
        "    labels = batch['label'].to(device).item()  # 各バッチのラベルを取得\n",
        "\n",
        "    model.eval()\n",
        "    with torch.no_grad():\n",
        "        outputs = model(input_ids, attention_mask=attention_mask, output_attentions=True)\n",
        "        attentions = outputs.attentions[-1]  # 最後の層のアテンション\n",
        "\n",
        "    # アテンションスコアの平均化\n",
        "    attention_weights = torch.mean(attentions, dim=1).squeeze(0).detach().cpu().numpy()  # (seq_len, seq_len)\n",
        "\n",
        "    # 入力トークンIDをCPUに移動\n",
        "    input_ids_cpu = input_ids.squeeze(0).detach().cpu().numpy()\n",
        "\n",
        "    # フィルタリング\n",
        "    filtered_tokens, filtered_weights = filter_tokens(attention_weights.flatten(), input_ids_cpu)\n",
        "\n",
        "    # ラベルごとのアテンションスコアを保存\n",
        "    if labels not in label_attention:\n",
        "        label_attention[labels] = {\n",
        "            'tokens': [],\n",
        "            'weights': []\n",
        "        }\n",
        "    label_attention[labels]['tokens'].extend(filtered_tokens)\n",
        "    label_attention[labels]['weights'].extend(filtered_weights)\n",
        "\n",
        "# 各ラベルごとのトークンのアテンションスコアを合計\n",
        "consolidated_attention = {}\n",
        "for label_id, attention in label_attention.items():\n",
        "    token_weight_map = {}\n",
        "    for token, weight in zip(attention['tokens'], attention['weights']):\n",
        "        if token in token_weight_map:\n",
        "            token_weight_map[token] += weight\n",
        "        else:\n",
        "            token_weight_map[token] = weight\n",
        "\n",
        "    # スコアでソートし、上位50のトークンを取得\n",
        "    sorted_tokens = sorted(token_weight_map.items(), key=lambda x: x[1], reverse=True)\n",
        "    consolidated_attention[label_id] = sorted_tokens[:50]  # 上位50件を保持\n",
        "\n",
        "# 可視化\n",
        "for label_id, top_tokens in sorted(consolidated_attention.items()):\n",
        "    plt.figure(figsize=(12, 10))\n",
        "    tokens, weights = zip(*top_tokens)  # トークンとスコアを分離\n",
        "\n",
        "    japanize_matplotlib.japanize()\n",
        "    plt.barh(range(len(weights)), weights, align='center')\n",
        "    plt.yticks(range(len(weights)), tokens)\n",
        "    plt.xlabel('Attention Weight')\n",
        "    plt.title(f'Top 50 Contributing Tokens for Class {label_id}')\n",
        "    plt.gca().invert_yaxis()\n",
        "    plt.show()\n"
      ]
    },
    {
      "cell_type": "markdown",
      "id": "d527e9df",
      "metadata": {},
      "source": [
        "## 考察\n",
        "- 1回目では記号も重要なヒントになると考え、前処理の段階で消さずに学習させた。\n",
        "- アテンションスコアの結果で記号がどちらのラベルでも上位に来ていたことから、2回目の今回は前処理で削除した。数字は残したまま。\n",
        "- 結果としてはaccuracy65→70%に上昇。同様にprecision,recall,f1も約5%程度上昇。特にmccが28→40%に上がっていた。もう少しデータを増やすか数字を消すかなどをすると50%目指せそう。\n"
      ]
    },
    {
      "cell_type": "markdown",
      "id": "85690d8c",
      "metadata": {},
      "source": []
    }
  ],
  "metadata": {
    "colab": {
      "provenance": []
    },
    "kernelspec": {
      "display_name": "analysis-Zz4uMKO_-py3.12",
      "language": "python",
      "name": "python3"
    },
    "language_info": {
      "codemirror_mode": {
        "name": "ipython",
        "version": 3
      },
      "file_extension": ".py",
      "mimetype": "text/x-python",
      "name": "python",
      "nbconvert_exporter": "python",
      "pygments_lexer": "ipython3",
      "version": "3.12.10"
    }
  },
  "nbformat": 4,
  "nbformat_minor": 5
}
